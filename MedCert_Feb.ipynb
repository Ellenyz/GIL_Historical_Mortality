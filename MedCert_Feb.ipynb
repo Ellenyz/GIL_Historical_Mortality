{
 "cells": [
  {
   "cell_type": "code",
   "execution_count": 2,
   "metadata": {},
   "outputs": [],
   "source": [
    "import pandas as pd"
   ]
  },
  {
   "cell_type": "code",
   "execution_count": 3,
   "metadata": {
    "scrolled": true
   },
   "outputs": [],
   "source": [
    "# Load text file (Feburary medicare certificate)\n",
    "df=pd.read_fwf('1967feb.txt')\n",
    "df = df.rename(columns={\"This file was downloaded from HathiTrust Digital Library.\": \"Hospital\"})"
   ]
  },
  {
   "cell_type": "markdown",
   "metadata": {},
   "source": [
    "### Hospital Names"
   ]
  },
  {
   "cell_type": "code",
   "execution_count": 4,
   "metadata": {
    "scrolled": true
   },
   "outputs": [
    {
     "data": {
      "text/html": [
       "<div>\n",
       "<style scoped>\n",
       "    .dataframe tbody tr th:only-of-type {\n",
       "        vertical-align: middle;\n",
       "    }\n",
       "\n",
       "    .dataframe tbody tr th {\n",
       "        vertical-align: top;\n",
       "    }\n",
       "\n",
       "    .dataframe thead th {\n",
       "        text-align: right;\n",
       "    }\n",
       "</style>\n",
       "<table border=\"1\" class=\"dataframe\">\n",
       "  <thead>\n",
       "    <tr style=\"text-align: right;\">\n",
       "      <th></th>\n",
       "      <th>Hospital</th>\n",
       "    </tr>\n",
       "  </thead>\n",
       "  <tbody>\n",
       "    <tr>\n",
       "      <th>98</th>\n",
       "      <td>HENRY CO HOSP</td>\n",
       "    </tr>\n",
       "    <tr>\n",
       "      <th>99</th>\n",
       "      <td>SHELBY MEM HOSP</td>\n",
       "    </tr>\n",
       "    <tr>\n",
       "      <th>100</th>\n",
       "      <td>RUSSELL HOSP</td>\n",
       "    </tr>\n",
       "    <tr>\n",
       "      <th>107</th>\n",
       "      <td>SOUTH PICKENS CO HOSP</td>\n",
       "    </tr>\n",
       "    <tr>\n",
       "      <th>109</th>\n",
       "      <td>ANOALUSIA HOSP</td>\n",
       "    </tr>\n",
       "    <tr>\n",
       "      <th>...</th>\n",
       "      <td>...</td>\n",
       "    </tr>\n",
       "    <tr>\n",
       "      <th>26346</th>\n",
       "      <td>GOSHEN CO HEM HOSP</td>\n",
       "    </tr>\n",
       "    <tr>\n",
       "      <th>26347</th>\n",
       "      <td>PLATTE CO MEM HOSP</td>\n",
       "    </tr>\n",
       "    <tr>\n",
       "      <th>26348</th>\n",
       "      <td>WASHAKIE MEM HOSP</td>\n",
       "    </tr>\n",
       "    <tr>\n",
       "      <th>26349</th>\n",
       "      <td>LAKE HOSP</td>\n",
       "    </tr>\n",
       "    <tr>\n",
       "      <th>26361</th>\n",
       "      <td>AMERICAN SAMOA HOSP</td>\n",
       "    </tr>\n",
       "  </tbody>\n",
       "</table>\n",
       "<p>6411 rows × 1 columns</p>\n",
       "</div>"
      ],
      "text/plain": [
       "                    Hospital\n",
       "98             HENRY CO HOSP\n",
       "99           SHELBY MEM HOSP\n",
       "100             RUSSELL HOSP\n",
       "107    SOUTH PICKENS CO HOSP\n",
       "109           ANOALUSIA HOSP\n",
       "...                      ...\n",
       "26346     GOSHEN CO HEM HOSP\n",
       "26347     PLATTE CO MEM HOSP\n",
       "26348      WASHAKIE MEM HOSP\n",
       "26349              LAKE HOSP\n",
       "26361    AMERICAN SAMOA HOSP\n",
       "\n",
       "[6411 rows x 1 columns]"
      ]
     },
     "execution_count": 4,
     "metadata": {},
     "output_type": "execute_result"
    }
   ],
   "source": [
    "df[df['Hospital'].str.contains(' HOSP$')]"
   ]
  },
  {
   "cell_type": "code",
   "execution_count": 5,
   "metadata": {},
   "outputs": [],
   "source": [
    "data = df[df['Hospital'].str.contains(' HOSP$' or 'HOSP & CLINICS')]"
   ]
  },
  {
   "cell_type": "code",
   "execution_count": 6,
   "metadata": {},
   "outputs": [],
   "source": [
    "data = data.reset_index()[['Hospital']]"
   ]
  },
  {
   "cell_type": "code",
   "execution_count": 7,
   "metadata": {
    "scrolled": true
   },
   "outputs": [
    {
     "data": {
      "text/html": [
       "<div>\n",
       "<style scoped>\n",
       "    .dataframe tbody tr th:only-of-type {\n",
       "        vertical-align: middle;\n",
       "    }\n",
       "\n",
       "    .dataframe tbody tr th {\n",
       "        vertical-align: top;\n",
       "    }\n",
       "\n",
       "    .dataframe thead th {\n",
       "        text-align: right;\n",
       "    }\n",
       "</style>\n",
       "<table border=\"1\" class=\"dataframe\">\n",
       "  <thead>\n",
       "    <tr style=\"text-align: right;\">\n",
       "      <th></th>\n",
       "      <th>Hospital</th>\n",
       "    </tr>\n",
       "  </thead>\n",
       "  <tbody>\n",
       "    <tr>\n",
       "      <th>0</th>\n",
       "      <td>HENRY CO HOSP</td>\n",
       "    </tr>\n",
       "    <tr>\n",
       "      <th>1</th>\n",
       "      <td>SHELBY MEM HOSP</td>\n",
       "    </tr>\n",
       "    <tr>\n",
       "      <th>2</th>\n",
       "      <td>RUSSELL HOSP</td>\n",
       "    </tr>\n",
       "    <tr>\n",
       "      <th>3</th>\n",
       "      <td>SOUTH PICKENS CO HOSP</td>\n",
       "    </tr>\n",
       "    <tr>\n",
       "      <th>4</th>\n",
       "      <td>ANOALUSIA HOSP</td>\n",
       "    </tr>\n",
       "    <tr>\n",
       "      <th>...</th>\n",
       "      <td>...</td>\n",
       "    </tr>\n",
       "    <tr>\n",
       "      <th>6406</th>\n",
       "      <td>GOSHEN CO HEM HOSP</td>\n",
       "    </tr>\n",
       "    <tr>\n",
       "      <th>6407</th>\n",
       "      <td>PLATTE CO MEM HOSP</td>\n",
       "    </tr>\n",
       "    <tr>\n",
       "      <th>6408</th>\n",
       "      <td>WASHAKIE MEM HOSP</td>\n",
       "    </tr>\n",
       "    <tr>\n",
       "      <th>6409</th>\n",
       "      <td>LAKE HOSP</td>\n",
       "    </tr>\n",
       "    <tr>\n",
       "      <th>6410</th>\n",
       "      <td>AMERICAN SAMOA HOSP</td>\n",
       "    </tr>\n",
       "  </tbody>\n",
       "</table>\n",
       "<p>6411 rows × 1 columns</p>\n",
       "</div>"
      ],
      "text/plain": [
       "                   Hospital\n",
       "0             HENRY CO HOSP\n",
       "1           SHELBY MEM HOSP\n",
       "2              RUSSELL HOSP\n",
       "3     SOUTH PICKENS CO HOSP\n",
       "4            ANOALUSIA HOSP\n",
       "...                     ...\n",
       "6406     GOSHEN CO HEM HOSP\n",
       "6407     PLATTE CO MEM HOSP\n",
       "6408      WASHAKIE MEM HOSP\n",
       "6409              LAKE HOSP\n",
       "6410    AMERICAN SAMOA HOSP\n",
       "\n",
       "[6411 rows x 1 columns]"
      ]
     },
     "execution_count": 7,
     "metadata": {},
     "output_type": "execute_result"
    }
   ],
   "source": [
    "data"
   ]
  },
  {
   "cell_type": "code",
   "execution_count": 8,
   "metadata": {},
   "outputs": [],
   "source": [
    "data.to_excel('Hosp_nm.xls')"
   ]
  },
  {
   "cell_type": "markdown",
   "metadata": {},
   "source": [
    "### Hospital Address"
   ]
  },
  {
   "cell_type": "code",
   "execution_count": 9,
   "metadata": {},
   "outputs": [
    {
     "data": {
      "text/html": [
       "<div>\n",
       "<style scoped>\n",
       "    .dataframe tbody tr th:only-of-type {\n",
       "        vertical-align: middle;\n",
       "    }\n",
       "\n",
       "    .dataframe tbody tr th {\n",
       "        vertical-align: top;\n",
       "    }\n",
       "\n",
       "    .dataframe thead th {\n",
       "        text-align: right;\n",
       "    }\n",
       "</style>\n",
       "<table border=\"1\" class=\"dataframe\">\n",
       "  <thead>\n",
       "    <tr style=\"text-align: right;\">\n",
       "      <th></th>\n",
       "      <th>Hospital</th>\n",
       "    </tr>\n",
       "  </thead>\n",
       "  <tbody>\n",
       "    <tr>\n",
       "      <th>104</th>\n",
       "      <td>ABBEVILLF ALABAMA 36310</td>\n",
       "    </tr>\n",
       "    <tr>\n",
       "      <th>105</th>\n",
       "      <td>ALABASTER ALABAMA 35007</td>\n",
       "    </tr>\n",
       "    <tr>\n",
       "      <th>106</th>\n",
       "      <td>ALEXANOER CITY ALABAMA 35010</td>\n",
       "    </tr>\n",
       "    <tr>\n",
       "      <th>108</th>\n",
       "      <td>ALICEVILLE ALABAMA 35442</td>\n",
       "    </tr>\n",
       "    <tr>\n",
       "      <th>113</th>\n",
       "      <td>ANOALUSIA ALABAMA 36420</td>\n",
       "    </tr>\n",
       "    <tr>\n",
       "      <th>...</th>\n",
       "      <td>...</td>\n",
       "    </tr>\n",
       "    <tr>\n",
       "      <th>391</th>\n",
       "      <td>MONTGOMERY ALABAMA 36104</td>\n",
       "    </tr>\n",
       "    <tr>\n",
       "      <th>392</th>\n",
       "      <td>MONTGiIMFRY ALABAMA 3630B</td>\n",
       "    </tr>\n",
       "    <tr>\n",
       "      <th>393</th>\n",
       "      <td>MONTGOMERY ALABAMA 36104</td>\n",
       "    </tr>\n",
       "    <tr>\n",
       "      <th>394</th>\n",
       "      <td>MOULTON ALABAMA 35650</td>\n",
       "    </tr>\n",
       "    <tr>\n",
       "      <th>395</th>\n",
       "      <td>0NE1NTA ALABAMA 35121</td>\n",
       "    </tr>\n",
       "  </tbody>\n",
       "</table>\n",
       "<p>76 rows × 1 columns</p>\n",
       "</div>"
      ],
      "text/plain": [
       "                         Hospital\n",
       "104       ABBEVILLF ALABAMA 36310\n",
       "105       ALABASTER ALABAMA 35007\n",
       "106  ALEXANOER CITY ALABAMA 35010\n",
       "108      ALICEVILLE ALABAMA 35442\n",
       "113       ANOALUSIA ALABAMA 36420\n",
       "..                            ...\n",
       "391      MONTGOMERY ALABAMA 36104\n",
       "392     MONTGiIMFRY ALABAMA 3630B\n",
       "393      MONTGOMERY ALABAMA 36104\n",
       "394         MOULTON ALABAMA 35650\n",
       "395         0NE1NTA ALABAMA 35121\n",
       "\n",
       "[76 rows x 1 columns]"
      ]
     },
     "execution_count": 9,
     "metadata": {},
     "output_type": "execute_result"
    }
   ],
   "source": [
    "# A glimspe: Address of Alabama Hospitals\n",
    "# Need to change the column name later\n",
    "df[df['Hospital'].str.contains(' ALABAMA \\d')]"
   ]
  },
  {
   "cell_type": "code",
   "execution_count": 10,
   "metadata": {},
   "outputs": [],
   "source": [
    "# Try a few states\n",
    "state = ['ALABAMA','ALASKA','ARIZONA','ARKANSAS','CALIFORNIA','COLORAOO','CONNECTICUT',\n",
    "        'OELAWARE','FLORIОA','GEORGIA','HAWAII','IOAHO','ILLINOIS','INOIANA','IOWA',\n",
    "        'KANSAS','LOUISIANA','MAINE','MARYLANO','MASSACHUSETTS','MICHIGAN','MINNESOTA',\n",
    "         'MISSISSIPPI','MISSOURI','MONTANA','NEBRASKA','NEW HAMPSHIRE', 'NEW JFRSFY',\n",
    "        'NEW MEXICO','NEW YORK','NORTH CAROLINA','NORTH OAKOTA','OHIO','OKLAHOMA',\n",
    "         'OREGON','PENNSYLVANIA','PUERTO RICO','RHOOE ISLANO','SOUTH CAROLINA',\n",
    "         'SOUTH OAKOTA','TFNNESSEE','TEXAS','UTAH','VERMONT','VIRGINIA','WASHINGTON',\n",
    "        'WEST VIRGINIA','WISCONSIN','WYOMING'] "
   ]
  },
  {
   "cell_type": "markdown",
   "metadata": {},
   "source": [
    "**Many of the letter 'D' has been decoded into 'O' in the txt file, so we need to be careful here!**\n",
    "Illinois: ISOINLIL,S1NOInIs,IonIiiI,S1NOInI ,"
   ]
  },
  {
   "cell_type": "code",
   "execution_count": 11,
   "metadata": {},
   "outputs": [],
   "source": [
    "list = {}\n",
    "ad = pd.DataFrame()\n",
    "for s in state:\n",
    "    rtype = '[a-zA-Z] '+s+' \\d'\n",
    "    list = df[df['Hospital'].str.contains(rtype)]\n",
    "    list = list.reset_index()[['Hospital']]\n",
    "    ad = ad.append(list)"
   ]
  },
  {
   "cell_type": "code",
   "execution_count": 12,
   "metadata": {
    "scrolled": false
   },
   "outputs": [],
   "source": [
    "ad = ad.rename(columns={'Hospital':'Addess'})"
   ]
  },
  {
   "cell_type": "code",
   "execution_count": 13,
   "metadata": {},
   "outputs": [],
   "source": [
    "ad.to_excel('Hosp_ad.xls')"
   ]
  },
  {
   "cell_type": "code",
   "execution_count": 14,
   "metadata": {},
   "outputs": [
    {
     "data": {
      "text/html": [
       "<div>\n",
       "<style scoped>\n",
       "    .dataframe tbody tr th:only-of-type {\n",
       "        vertical-align: middle;\n",
       "    }\n",
       "\n",
       "    .dataframe tbody tr th {\n",
       "        vertical-align: top;\n",
       "    }\n",
       "\n",
       "    .dataframe thead th {\n",
       "        text-align: right;\n",
       "    }\n",
       "</style>\n",
       "<table border=\"1\" class=\"dataframe\">\n",
       "  <thead>\n",
       "    <tr style=\"text-align: right;\">\n",
       "      <th></th>\n",
       "      <th>Addess</th>\n",
       "    </tr>\n",
       "  </thead>\n",
       "  <tbody>\n",
       "    <tr>\n",
       "      <th>0</th>\n",
       "      <td>ABBEVILLF ALABAMA 36310</td>\n",
       "    </tr>\n",
       "    <tr>\n",
       "      <th>1</th>\n",
       "      <td>ALABASTER ALABAMA 35007</td>\n",
       "    </tr>\n",
       "    <tr>\n",
       "      <th>2</th>\n",
       "      <td>ALEXANOER CITY ALABAMA 35010</td>\n",
       "    </tr>\n",
       "    <tr>\n",
       "      <th>3</th>\n",
       "      <td>ALICEVILLE ALABAMA 35442</td>\n",
       "    </tr>\n",
       "    <tr>\n",
       "      <th>4</th>\n",
       "      <td>ANOALUSIA ALABAMA 36420</td>\n",
       "    </tr>\n",
       "    <tr>\n",
       "      <th>...</th>\n",
       "      <td>...</td>\n",
       "    </tr>\n",
       "    <tr>\n",
       "      <th>145</th>\n",
       "      <td>WHITEHALL WISCONSIN 54773</td>\n",
       "    </tr>\n",
       "    <tr>\n",
       "      <th>146</th>\n",
       "      <td>WILO ROSE WISCONSIN 549B4</td>\n",
       "    </tr>\n",
       "    <tr>\n",
       "      <th>147</th>\n",
       "      <td>WINNEBAGO WISCONSIN 549B5</td>\n",
       "    </tr>\n",
       "    <tr>\n",
       "      <th>148</th>\n",
       "      <td>WISCONSIN RAPIOS WISCONSIN 54494</td>\n",
       "    </tr>\n",
       "    <tr>\n",
       "      <th>149</th>\n",
       "      <td>WOOORUFF WISCONSIN 5456B</td>\n",
       "    </tr>\n",
       "  </tbody>\n",
       "</table>\n",
       "<p>5169 rows × 1 columns</p>\n",
       "</div>"
      ],
      "text/plain": [
       "                               Addess\n",
       "0             ABBEVILLF ALABAMA 36310\n",
       "1             ALABASTER ALABAMA 35007\n",
       "2        ALEXANOER CITY ALABAMA 35010\n",
       "3            ALICEVILLE ALABAMA 35442\n",
       "4             ANOALUSIA ALABAMA 36420\n",
       "..                                ...\n",
       "145         WHITEHALL WISCONSIN 54773\n",
       "146         WILO ROSE WISCONSIN 549B4\n",
       "147         WINNEBAGO WISCONSIN 549B5\n",
       "148  WISCONSIN RAPIOS WISCONSIN 54494\n",
       "149          WOOORUFF WISCONSIN 5456B\n",
       "\n",
       "[5169 rows x 1 columns]"
      ]
     },
     "execution_count": 14,
     "metadata": {},
     "output_type": "execute_result"
    }
   ],
   "source": [
    "ad"
   ]
  },
  {
   "cell_type": "code",
   "execution_count": null,
   "metadata": {},
   "outputs": [],
   "source": []
  }
 ],
 "metadata": {
  "kernelspec": {
   "display_name": "Python 3",
   "language": "python",
   "name": "python3"
  },
  "language_info": {
   "codemirror_mode": {
    "name": "ipython",
    "version": 3
   },
   "file_extension": ".py",
   "mimetype": "text/x-python",
   "name": "python",
   "nbconvert_exporter": "python",
   "pygments_lexer": "ipython3",
   "version": "3.8.3"
  }
 },
 "nbformat": 4,
 "nbformat_minor": 4
}
