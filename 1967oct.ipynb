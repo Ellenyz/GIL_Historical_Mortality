{
 "cells": [
  {
   "cell_type": "code",
   "execution_count": 1,
   "metadata": {},
   "outputs": [],
   "source": [
    "import pandas as pd"
   ]
  },
  {
   "cell_type": "code",
   "execution_count": 4,
   "metadata": {},
   "outputs": [],
   "source": [
    "# Load text file (Feburary medicare certificate)\n",
    "df = pd.read_fwf('1967oct.txt')\n",
    "df = df.rename(columns={\"This file was downloaded from HathiTrust Digital Library.\": \"Hospital\"})"
   ]
  },
  {
   "cell_type": "code",
   "execution_count": 6,
   "metadata": {},
   "outputs": [
    {
     "data": {
      "text/html": [
       "<div>\n",
       "<style scoped>\n",
       "    .dataframe tbody tr th:only-of-type {\n",
       "        vertical-align: middle;\n",
       "    }\n",
       "\n",
       "    .dataframe tbody tr th {\n",
       "        vertical-align: top;\n",
       "    }\n",
       "\n",
       "    .dataframe thead th {\n",
       "        text-align: right;\n",
       "    }\n",
       "</style>\n",
       "<table border=\"1\" class=\"dataframe\">\n",
       "  <thead>\n",
       "    <tr style=\"text-align: right;\">\n",
       "      <th></th>\n",
       "      <th>Hospital</th>\n",
       "    </tr>\n",
       "  </thead>\n",
       "  <tbody>\n",
       "    <tr>\n",
       "      <th>37</th>\n",
       "      <td>HENRY CO HOSP</td>\n",
       "    </tr>\n",
       "    <tr>\n",
       "      <th>38</th>\n",
       "      <td>SHELBY MEM HOSP</td>\n",
       "    </tr>\n",
       "    <tr>\n",
       "      <th>39</th>\n",
       "      <td>RUSSELL HOSP</td>\n",
       "    </tr>\n",
       "    <tr>\n",
       "      <th>40</th>\n",
       "      <td>SOUTH PICKENS CO HOSP</td>\n",
       "    </tr>\n",
       "    <tr>\n",
       "      <th>42</th>\n",
       "      <td>COLUMBIA GEN HOSP</td>\n",
       "    </tr>\n",
       "    <tr>\n",
       "      <th>...</th>\n",
       "      <td>...</td>\n",
       "    </tr>\n",
       "    <tr>\n",
       "      <th>29564</th>\n",
       "      <td>CROOK CC MEM HOSP</td>\n",
       "    </tr>\n",
       "    <tr>\n",
       "      <th>29565</th>\n",
       "      <td>HOT SPRINGS MEM HOSP</td>\n",
       "    </tr>\n",
       "    <tr>\n",
       "      <th>29566</th>\n",
       "      <td>GOSHEN CC MEM HOSP</td>\n",
       "    </tr>\n",
       "    <tr>\n",
       "      <th>29567</th>\n",
       "      <td>PLATTE CO MEM HOSP</td>\n",
       "    </tr>\n",
       "    <tr>\n",
       "      <th>29568</th>\n",
       "      <td>WASHAKIE MEM HOSP</td>\n",
       "    </tr>\n",
       "  </tbody>\n",
       "</table>\n",
       "<p>5094 rows × 1 columns</p>\n",
       "</div>"
      ],
      "text/plain": [
       "                    Hospital\n",
       "37             HENRY CO HOSP\n",
       "38           SHELBY MEM HOSP\n",
       "39              RUSSELL HOSP\n",
       "40     SOUTH PICKENS CO HOSP\n",
       "42         COLUMBIA GEN HOSP\n",
       "...                      ...\n",
       "29564      CROOK CC MEM HOSP\n",
       "29565   HOT SPRINGS MEM HOSP\n",
       "29566     GOSHEN CC MEM HOSP\n",
       "29567     PLATTE CO MEM HOSP\n",
       "29568      WASHAKIE MEM HOSP\n",
       "\n",
       "[5094 rows x 1 columns]"
      ]
     },
     "execution_count": 6,
     "metadata": {},
     "output_type": "execute_result"
    }
   ],
   "source": [
    "# First get the hospital names:\n",
    "df[df['Hospital'].str.contains(' HOSP$')]"
   ]
  },
  {
   "cell_type": "code",
   "execution_count": 8,
   "metadata": {},
   "outputs": [],
   "source": [
    "data = df[df['Hospital'].str.contains(' HOSP$' or 'CLINIC' or 'Health Center' or 'CLINICAL CENTER')]"
   ]
  },
  {
   "cell_type": "code",
   "execution_count": 9,
   "metadata": {},
   "outputs": [],
   "source": [
    "data = data.reset_index()[['Hospital']]"
   ]
  },
  {
   "cell_type": "code",
   "execution_count": 10,
   "metadata": {
    "scrolled": false
   },
   "outputs": [
    {
     "data": {
      "text/html": [
       "<div>\n",
       "<style scoped>\n",
       "    .dataframe tbody tr th:only-of-type {\n",
       "        vertical-align: middle;\n",
       "    }\n",
       "\n",
       "    .dataframe tbody tr th {\n",
       "        vertical-align: top;\n",
       "    }\n",
       "\n",
       "    .dataframe thead th {\n",
       "        text-align: right;\n",
       "    }\n",
       "</style>\n",
       "<table border=\"1\" class=\"dataframe\">\n",
       "  <thead>\n",
       "    <tr style=\"text-align: right;\">\n",
       "      <th></th>\n",
       "      <th>Hospital</th>\n",
       "    </tr>\n",
       "  </thead>\n",
       "  <tbody>\n",
       "    <tr>\n",
       "      <th>0</th>\n",
       "      <td>HENRY CO HOSP</td>\n",
       "    </tr>\n",
       "    <tr>\n",
       "      <th>1</th>\n",
       "      <td>SHELBY MEM HOSP</td>\n",
       "    </tr>\n",
       "    <tr>\n",
       "      <th>2</th>\n",
       "      <td>RUSSELL HOSP</td>\n",
       "    </tr>\n",
       "    <tr>\n",
       "      <th>3</th>\n",
       "      <td>SOUTH PICKENS CO HOSP</td>\n",
       "    </tr>\n",
       "    <tr>\n",
       "      <th>4</th>\n",
       "      <td>COLUMBIA GEN HOSP</td>\n",
       "    </tr>\n",
       "    <tr>\n",
       "      <th>...</th>\n",
       "      <td>...</td>\n",
       "    </tr>\n",
       "    <tr>\n",
       "      <th>5089</th>\n",
       "      <td>CROOK CC MEM HOSP</td>\n",
       "    </tr>\n",
       "    <tr>\n",
       "      <th>5090</th>\n",
       "      <td>HOT SPRINGS MEM HOSP</td>\n",
       "    </tr>\n",
       "    <tr>\n",
       "      <th>5091</th>\n",
       "      <td>GOSHEN CC MEM HOSP</td>\n",
       "    </tr>\n",
       "    <tr>\n",
       "      <th>5092</th>\n",
       "      <td>PLATTE CO MEM HOSP</td>\n",
       "    </tr>\n",
       "    <tr>\n",
       "      <th>5093</th>\n",
       "      <td>WASHAKIE MEM HOSP</td>\n",
       "    </tr>\n",
       "  </tbody>\n",
       "</table>\n",
       "<p>5094 rows × 1 columns</p>\n",
       "</div>"
      ],
      "text/plain": [
       "                   Hospital\n",
       "0             HENRY CO HOSP\n",
       "1           SHELBY MEM HOSP\n",
       "2              RUSSELL HOSP\n",
       "3     SOUTH PICKENS CO HOSP\n",
       "4         COLUMBIA GEN HOSP\n",
       "...                     ...\n",
       "5089      CROOK CC MEM HOSP\n",
       "5090   HOT SPRINGS MEM HOSP\n",
       "5091     GOSHEN CC MEM HOSP\n",
       "5092     PLATTE CO MEM HOSP\n",
       "5093      WASHAKIE MEM HOSP\n",
       "\n",
       "[5094 rows x 1 columns]"
      ]
     },
     "execution_count": 10,
     "metadata": {},
     "output_type": "execute_result"
    }
   ],
   "source": [
    "data"
   ]
  },
  {
   "cell_type": "code",
   "execution_count": 17,
   "metadata": {},
   "outputs": [
    {
     "data": {
      "text/html": [
       "<div>\n",
       "<style scoped>\n",
       "    .dataframe tbody tr th:only-of-type {\n",
       "        vertical-align: middle;\n",
       "    }\n",
       "\n",
       "    .dataframe tbody tr th {\n",
       "        vertical-align: top;\n",
       "    }\n",
       "\n",
       "    .dataframe thead th {\n",
       "        text-align: right;\n",
       "    }\n",
       "</style>\n",
       "<table border=\"1\" class=\"dataframe\">\n",
       "  <thead>\n",
       "    <tr style=\"text-align: right;\">\n",
       "      <th></th>\n",
       "      <th>Hospital</th>\n",
       "    </tr>\n",
       "  </thead>\n",
       "  <tbody>\n",
       "    <tr>\n",
       "      <th>161</th>\n",
       "      <td>CENTRE ALABAMA</td>\n",
       "    </tr>\n",
       "    <tr>\n",
       "      <th>557</th>\n",
       "      <td>TUSKEGEE ALABAMA</td>\n",
       "    </tr>\n",
       "    <tr>\n",
       "      <th>565</th>\n",
       "      <td>UNION SPRINGS ALABAMA</td>\n",
       "    </tr>\n",
       "    <tr>\n",
       "      <th>571</th>\n",
       "      <td>WETUMPKA ALABAMA</td>\n",
       "    </tr>\n",
       "    <tr>\n",
       "      <th>573</th>\n",
       "      <td>WINFIELO ALABAMA</td>\n",
       "    </tr>\n",
       "    <tr>\n",
       "      <th>575</th>\n",
       "      <td>YDRK ALABAMA</td>\n",
       "    </tr>\n",
       "  </tbody>\n",
       "</table>\n",
       "</div>"
      ],
      "text/plain": [
       "                  Hospital\n",
       "161         CENTRE ALABAMA\n",
       "557       TUSKEGEE ALABAMA\n",
       "565  UNION SPRINGS ALABAMA\n",
       "571       WETUMPKA ALABAMA\n",
       "573       WINFIELO ALABAMA\n",
       "575           YDRK ALABAMA"
      ]
     },
     "execution_count": 17,
     "metadata": {},
     "output_type": "execute_result"
    }
   ],
   "source": [
    "df[df['Hospital'].str.contains(' ALABAMA$')]"
   ]
  },
  {
   "cell_type": "code",
   "execution_count": 11,
   "metadata": {},
   "outputs": [],
   "source": [
    "data.to_excel('Hosp_nm_oct.xls')"
   ]
  },
  {
   "cell_type": "code",
   "execution_count": 13,
   "metadata": {
    "scrolled": true
   },
   "outputs": [],
   "source": [
    "# Try a few states\n",
    "state = ['ALABAMA','ALASKA','ARIZONA','ARKANSAS','CALIFORNIA','COLORAOO','CONNECTICUT',\n",
    "        'OELAWARE','FLORIОA','GEORGIA','HAWAII','IOAHO','ILLINOIS','INOIANA','IOWA',\n",
    "        'KANSAS','KENTUCKY','LOUISIANA','MAINE','MARYLANO','MASSACHUSETTS','MICHIGAN','MINNESOTA',\n",
    "         'MISSISSIPPI','MISSOURI','MONTANA','NEBRASKA','NEW HAMPSHIRE', 'JERSEY','NEW JERSEY',\n",
    "        'MEXICO','NEW MEXICO','NEW YORK','CAROLINA','NORTH CAROLINA','NORTH OAKOTA','OAKOTA','OHIO',\n",
    "         'OKLAHOMA','OREGON','PENNSYLVANIA','PUERTO RICO','ISLANO','SOUTH CAROLINA','OAKOTA',\n",
    "         'SOUTH OAKOTA','TENNESSEE','TEXAS','UTAH','VERMONT','VIRGINIA','WASHINGTON',\n",
    "        'WEST VIRGINIA','WISCONSIN','WYOMING'] "
   ]
  },
  {
   "cell_type": "code",
   "execution_count": 20,
   "metadata": {},
   "outputs": [],
   "source": [
    "list = {}\n",
    "ad = pd.DataFrame()\n",
    "for s in state:\n",
    "    rtype = '[a-zA-Z] '+s+'$'\n",
    "    list = df[df['Hospital'].str.contains(rtype)]\n",
    "    list = list.reset_index()[['Hospital']]\n",
    "    ad = ad.append(list)"
   ]
  },
  {
   "cell_type": "code",
   "execution_count": 21,
   "metadata": {},
   "outputs": [
    {
     "data": {
      "text/html": [
       "<div>\n",
       "<style scoped>\n",
       "    .dataframe tbody tr th:only-of-type {\n",
       "        vertical-align: middle;\n",
       "    }\n",
       "\n",
       "    .dataframe tbody tr th {\n",
       "        vertical-align: top;\n",
       "    }\n",
       "\n",
       "    .dataframe thead th {\n",
       "        text-align: right;\n",
       "    }\n",
       "</style>\n",
       "<table border=\"1\" class=\"dataframe\">\n",
       "  <thead>\n",
       "    <tr style=\"text-align: right;\">\n",
       "      <th></th>\n",
       "      <th>Hospital</th>\n",
       "    </tr>\n",
       "  </thead>\n",
       "  <tbody>\n",
       "    <tr>\n",
       "      <th>0</th>\n",
       "      <td>CENTRE ALABAMA</td>\n",
       "    </tr>\n",
       "    <tr>\n",
       "      <th>1</th>\n",
       "      <td>TUSKEGEE ALABAMA</td>\n",
       "    </tr>\n",
       "    <tr>\n",
       "      <th>2</th>\n",
       "      <td>UNION SPRINGS ALABAMA</td>\n",
       "    </tr>\n",
       "    <tr>\n",
       "      <th>3</th>\n",
       "      <td>WETUMPKA ALABAMA</td>\n",
       "    </tr>\n",
       "    <tr>\n",
       "      <th>4</th>\n",
       "      <td>WINFIELO ALABAMA</td>\n",
       "    </tr>\n",
       "    <tr>\n",
       "      <th>...</th>\n",
       "      <td>...</td>\n",
       "    </tr>\n",
       "    <tr>\n",
       "      <th>0</th>\n",
       "      <td>SUNOANCE WYOMING</td>\n",
       "    </tr>\n",
       "    <tr>\n",
       "      <th>1</th>\n",
       "      <td>THERMOPCLIS WYOMING</td>\n",
       "    </tr>\n",
       "    <tr>\n",
       "      <th>2</th>\n",
       "      <td>TORRINGTON WYOMING</td>\n",
       "    </tr>\n",
       "    <tr>\n",
       "      <th>3</th>\n",
       "      <td>WHEATLAND WYOMING</td>\n",
       "    </tr>\n",
       "    <tr>\n",
       "      <th>4</th>\n",
       "      <td>WORLANO WYOMING</td>\n",
       "    </tr>\n",
       "  </tbody>\n",
       "</table>\n",
       "<p>1071 rows × 1 columns</p>\n",
       "</div>"
      ],
      "text/plain": [
       "                 Hospital\n",
       "0          CENTRE ALABAMA\n",
       "1        TUSKEGEE ALABAMA\n",
       "2   UNION SPRINGS ALABAMA\n",
       "3        WETUMPKA ALABAMA\n",
       "4        WINFIELO ALABAMA\n",
       "..                    ...\n",
       "0        SUNOANCE WYOMING\n",
       "1     THERMOPCLIS WYOMING\n",
       "2      TORRINGTON WYOMING\n",
       "3       WHEATLAND WYOMING\n",
       "4         WORLANO WYOMING\n",
       "\n",
       "[1071 rows x 1 columns]"
      ]
     },
     "execution_count": 21,
     "metadata": {},
     "output_type": "execute_result"
    }
   ],
   "source": [
    "ad"
   ]
  }
 ],
 "metadata": {
  "kernelspec": {
   "display_name": "Python 3",
   "language": "python",
   "name": "python3"
  },
  "language_info": {
   "codemirror_mode": {
    "name": "ipython",
    "version": 3
   },
   "file_extension": ".py",
   "mimetype": "text/x-python",
   "name": "python",
   "nbconvert_exporter": "python",
   "pygments_lexer": "ipython3",
   "version": "3.8.3"
  }
 },
 "nbformat": 4,
 "nbformat_minor": 4
}
