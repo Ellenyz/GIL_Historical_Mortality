{
 "cells": [
  {
   "cell_type": "code",
   "execution_count": 1,
   "metadata": {},
   "outputs": [],
   "source": [
    "import pandas as pd\n",
    "from PIL import Image\n",
    "import pytesseract\n",
    "import sys\n",
    "from pdf2image import convert_from_path\n",
    "import os\n",
    "from pytesseract import image_to_string"
   ]
  },
  {
   "cell_type": "code",
   "execution_count": 2,
   "metadata": {},
   "outputs": [
    {
     "data": {
      "text/plain": [
       "\"/Users/ellenyz/OneDrive - UW-Madison/DrGreen'sLab/Medicare Certificate/1974\""
      ]
     },
     "execution_count": 2,
     "metadata": {},
     "output_type": "execute_result"
    }
   ],
   "source": [
    "path = os.getcwd()\n",
    "path"
   ]
  },
  {
   "cell_type": "code",
   "execution_count": 3,
   "metadata": {},
   "outputs": [],
   "source": [
    "#f_list = os.listdir(path)\n",
    "f_list = ['AL_ID_cropped.pdf',\n",
    "          'IL_MI_cropped.pdf',\n",
    "          'MN_NM_cropped.pdf',\n",
    "          'NY_RI_cropped.pdf',\n",
    "          'SC_WY_cropped.pdf']"
   ]
  },
  {
   "cell_type": "markdown",
   "metadata": {},
   "source": [
    "#Convert pdf to images\n",
    "image_counter = 1\n",
    "for f in f_list:\n",
    "    PDF_file = path + '/' + f\n",
    "    pages = convert_from_path(PDF_file, 500)\n",
    "    for page in pages:\n",
    "        # Declaring filename for each page of PDF as JPG\n",
    "        # For each page, filename will be:\n",
    "        # PDF page 1 -> page_1.jpg\n",
    "        # PDF page 2 -> page_2.jpg\n",
    "        # PDF page 3 -> page_3.jpg\n",
    "        # ....\n",
    "        # PDF page n -> page_n.jpg\n",
    "        filename = \"page_\"+str(image_counter)+\".jpg\"\n",
    "      \n",
    "        # Save the image of the page in system\n",
    "        page.save(path+ '/' + filename, 'JPEG')\n",
    "  \n",
    "        # Increment the counter to update filename\n",
    "        image_counter = image_counter + 1"
   ]
  },
  {
   "cell_type": "code",
   "execution_count": 4,
   "metadata": {},
   "outputs": [],
   "source": [
    "out = pd.DataFrame(columns=['HOSP','STATE'])"
   ]
  },
  {
   "cell_type": "code",
   "execution_count": 5,
   "metadata": {},
   "outputs": [],
   "source": [
    "def my_function(state,a,b):\n",
    "    outfile = path + '/' +'out_text_'+state+'.txt'\n",
    "    f = open(outfile, \"a\")\n",
    "    \n",
    "    for i in range(a, b):\n",
    "        filename = \"page_\"+str(i)+\".jpg\"\n",
    "        # Recognize the text as string in image using pytesserct\n",
    "        text = str(((pytesseract.image_to_string(Image.open(path+'/'+filename)))))\n",
    "        text = text.replace('-\\n', '')    \n",
    "        # Finally, write the processed text to the file.\n",
    "        \n",
    "        f.write(text)\n",
    "    \n",
    "    f.close()\n",
    "    with open(outfile) as f:\n",
    "        line = f.read().splitlines() \n",
    "    df = pd.DataFrame(line)\n",
    "    df.columns =['HOSP']\n",
    "    data = df[df['HOSP'].str.contains('Hosp'or'Med Center'or'Medical Center')]\n",
    "    data.reset_index(inplace = True)\n",
    "    data = pd.DataFrame(data.HOSP)\n",
    "    data['STATE'] = state\n",
    "    return(data)"
   ]
  },
  {
   "cell_type": "code",
   "execution_count": 6,
   "metadata": {},
   "outputs": [],
   "source": [
    "ref = pd.read_excel('reference.xlsx',header=None,names=['state','p1','p2'])"
   ]
  },
  {
   "cell_type": "code",
   "execution_count": 7,
   "metadata": {},
   "outputs": [],
   "source": [
    "for i in range(0,51):\n",
    "    state = ref.iloc[i,0]\n",
    "    a = ref.iloc[i,1]\n",
    "    b = ref.iloc[i,2]\n",
    "    out = out.append(my_function(state,a,b))"
   ]
  },
  {
   "cell_type": "code",
   "execution_count": 8,
   "metadata": {},
   "outputs": [],
   "source": [
    "zipcode = out['HOSP'].str.findall(r'(\\d{5})')"
   ]
  },
  {
   "cell_type": "code",
   "execution_count": 9,
   "metadata": {},
   "outputs": [],
   "source": [
    "zipcode = pd.DataFrame(zipcode)"
   ]
  },
  {
   "cell_type": "code",
   "execution_count": 10,
   "metadata": {},
   "outputs": [
    {
     "data": {
      "text/html": [
       "<div>\n",
       "<style scoped>\n",
       "    .dataframe tbody tr th:only-of-type {\n",
       "        vertical-align: middle;\n",
       "    }\n",
       "\n",
       "    .dataframe tbody tr th {\n",
       "        vertical-align: top;\n",
       "    }\n",
       "\n",
       "    .dataframe thead th {\n",
       "        text-align: right;\n",
       "    }\n",
       "</style>\n",
       "<table border=\"1\" class=\"dataframe\">\n",
       "  <thead>\n",
       "    <tr style=\"text-align: right;\">\n",
       "      <th></th>\n",
       "      <th>ZIP</th>\n",
       "    </tr>\n",
       "  </thead>\n",
       "  <tbody>\n",
       "    <tr>\n",
       "      <th>0</th>\n",
       "      <td>[]</td>\n",
       "    </tr>\n",
       "    <tr>\n",
       "      <th>1</th>\n",
       "      <td>[36310]</td>\n",
       "    </tr>\n",
       "    <tr>\n",
       "      <th>2</th>\n",
       "      <td>[35007]</td>\n",
       "    </tr>\n",
       "    <tr>\n",
       "      <th>3</th>\n",
       "      <td>[35010]</td>\n",
       "    </tr>\n",
       "    <tr>\n",
       "      <th>4</th>\n",
       "      <td>[35442]</td>\n",
       "    </tr>\n",
       "    <tr>\n",
       "      <th>...</th>\n",
       "      <td>...</td>\n",
       "    </tr>\n",
       "    <tr>\n",
       "      <th>6791</th>\n",
       "      <td>[25271]</td>\n",
       "    </tr>\n",
       "    <tr>\n",
       "      <th>6792</th>\n",
       "      <td>[25276]</td>\n",
       "    </tr>\n",
       "    <tr>\n",
       "      <th>6793</th>\n",
       "      <td>[26651]</td>\n",
       "    </tr>\n",
       "    <tr>\n",
       "      <th>6794</th>\n",
       "      <td>[26003]</td>\n",
       "    </tr>\n",
       "    <tr>\n",
       "      <th>6795</th>\n",
       "      <td>[]</td>\n",
       "    </tr>\n",
       "  </tbody>\n",
       "</table>\n",
       "<p>6796 rows × 1 columns</p>\n",
       "</div>"
      ],
      "text/plain": [
       "          ZIP\n",
       "0          []\n",
       "1     [36310]\n",
       "2     [35007]\n",
       "3     [35010]\n",
       "4     [35442]\n",
       "...       ...\n",
       "6791  [25271]\n",
       "6792  [25276]\n",
       "6793  [26651]\n",
       "6794  [26003]\n",
       "6795       []\n",
       "\n",
       "[6796 rows x 1 columns]"
      ]
     },
     "execution_count": 10,
     "metadata": {},
     "output_type": "execute_result"
    }
   ],
   "source": [
    "zipcode = zipcode.rename(columns={\"HOSP\": \"ZIP\"})\n",
    "zipcode.reset_index(inplace = True)\n",
    "zipcode = pd.DataFrame(zipcode.ZIP)\n",
    "zipcode"
   ]
  },
  {
   "cell_type": "code",
   "execution_count": 11,
   "metadata": {},
   "outputs": [],
   "source": [
    "writer = pd.ExcelWriter('1974.xlsx', engine='xlsxwriter')\n",
    "\n",
    "# Write each dataframe to a different worksheet. you could write different string like above if you want\n",
    "out.HOSP.to_excel(writer, sheet_name='HOSP_name + ad')\n",
    "out.STATE.to_excel(writer, sheet_name='City_State')\n",
    "zipcode.to_excel(writer, sheet_name='Zip_Code')\n",
    "\n",
    "# Close the Pandas Excel writer and output the Excel file.\n",
    "writer.save()"
   ]
  },
  {
   "cell_type": "code",
   "execution_count": null,
   "metadata": {},
   "outputs": [],
   "source": []
  },
  {
   "cell_type": "code",
   "execution_count": null,
   "metadata": {},
   "outputs": [],
   "source": []
  }
 ],
 "metadata": {
  "kernelspec": {
   "display_name": "Python 3",
   "language": "python",
   "name": "python3"
  },
  "language_info": {
   "codemirror_mode": {
    "name": "ipython",
    "version": 3
   },
   "file_extension": ".py",
   "mimetype": "text/x-python",
   "name": "python",
   "nbconvert_exporter": "python",
   "pygments_lexer": "ipython3",
   "version": "3.8.3"
  }
 },
 "nbformat": 4,
 "nbformat_minor": 4
}
